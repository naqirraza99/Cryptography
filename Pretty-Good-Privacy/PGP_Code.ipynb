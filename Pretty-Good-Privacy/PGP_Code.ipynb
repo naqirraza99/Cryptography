{
  "nbformat": 4,
  "nbformat_minor": 0,
  "metadata": {
    "colab": {
      "provenance": []
    },
    "kernelspec": {
      "name": "python3",
      "display_name": "Python 3"
    },
    "language_info": {
      "name": "python"
    }
  },
  "cells": [
    {
      "cell_type": "markdown",
      "source": [
        "**Name:** **Syed Muhammad Naqi Raza**\n",
        "\n",
        "**Registration Number:** **2022574**\n",
        "\n",
        "**Faculty:** **Cyber Security**\n",
        "\n",
        "**Course:** **CY-312**\n",
        "\n"
      ],
      "metadata": {
        "id": "pBtYw413jS_v"
      }
    },
    {
      "cell_type": "markdown",
      "source": [
        "**Pretty Good Privacy(PGP):**"
      ],
      "metadata": {
        "id": "dBlsbSBsfbKX"
      }
    },
    {
      "cell_type": "markdown",
      "source": [
        "Pretty Good Privacy (PGP) is a cryptographic protocol designed for secure communication and data protection. It combines various encryption and hashing techniques to ensure:\n",
        "\n",
        "\n",
        "\n",
        "*   **Confidentiality:** Messages are encrypted using the recipient's public key, so only the recipient can decrypt them using their private key.\n",
        "*   **Authentication:** Digital signatures verify the sender's identity, ensuring the message comes from the claimed source.\n",
        "*   **Integrity:** Hashing ensures the message is not altered during transmission.\n",
        "\n",
        "PGP is widely used in email encryption, file protection, and digital communication to provide privacy and security.\n",
        "\n",
        "\n",
        "\n"
      ],
      "metadata": {
        "id": "GPoa8ZkSfnCY"
      }
    },
    {
      "cell_type": "markdown",
      "source": [
        "**Explanation of Libraries/Modules**\n"
      ],
      "metadata": {
        "id": "iaZqThKCKmHz"
      }
    },
    {
      "cell_type": "code",
      "source": [
        "# Importing necessary libraries\n",
        "import rsa  # For generating RSA key pairs, encryption, and decryption"
      ],
      "metadata": {
        "id": "vtbSOecELQQz"
      },
      "execution_count": 8,
      "outputs": []
    },
    {
      "cell_type": "markdown",
      "source": [
        "**1- rsa:**"
      ],
      "metadata": {
        "id": "l9HE0Z3DKpFE"
      }
    },
    {
      "cell_type": "markdown",
      "source": [
        "\n",
        "*   Used for generating RSA key pairs (public and private keys).\n",
        "*   Provides methods for encrypting, decrypting, signing, and verifying data.\n",
        "*   Core of the PGP algorithm to ensure secure communication and authenticity.\n",
        "\n"
      ],
      "metadata": {
        "id": "WSxK7X8QKv49"
      }
    },
    {
      "cell_type": "code",
      "source": [
        "import hashlib  # For creating digital signatures using hash functions"
      ],
      "metadata": {
        "id": "xheWBknOLV20"
      },
      "execution_count": 9,
      "outputs": []
    },
    {
      "cell_type": "markdown",
      "source": [
        "**2- hashlib:**"
      ],
      "metadata": {
        "id": "TAXxiMTELYo3"
      }
    },
    {
      "cell_type": "markdown",
      "source": [
        "\n",
        "\n",
        "*   Provides hash functions like SHA-256.\n",
        "*    Used to create a digest of the message for generating digital signatures.\n",
        "*   Ensures data integrity by hashing the message.\n",
        "\n",
        "\n",
        "\n"
      ],
      "metadata": {
        "id": "wc1nk4H0Lc7M"
      }
    },
    {
      "cell_type": "code",
      "source": [
        "import base64  # For encoding and decoding data for secure transmission"
      ],
      "metadata": {
        "id": "pOGxz22ML0Qm"
      },
      "execution_count": 10,
      "outputs": []
    },
    {
      "cell_type": "markdown",
      "source": [
        "**3- base64:**"
      ],
      "metadata": {
        "id": "C-6gaatXL23u"
      }
    },
    {
      "cell_type": "markdown",
      "source": [
        "\n",
        "*   Encodes and decodes data in Base64 format for secure transmission.\n",
        "*   Helps ensure that encrypted and signed data can be safely sent over text-based protocols like email.\n",
        "\n"
      ],
      "metadata": {
        "id": "LkRRS2EsL8RM"
      }
    },
    {
      "cell_type": "markdown",
      "source": [
        "**Steps in the Code:**"
      ],
      "metadata": {
        "id": "SsX587P9MReA"
      }
    },
    {
      "cell_type": "markdown",
      "source": [
        "**Step 1:**\n",
        "\n",
        "The generate_keys() function creates a pair of cryptographic keys using the RSA algorithm:\n",
        "\n",
        "\n",
        "*   **Public Key:** Used for encrypting messages or verifying digital signatures. This key can be shared publicly.\n",
        "*   **Private Key:** Used for decrypting messages or signing data. This key is kept secret by the owner.\n",
        "\n",
        "The function uses rsa.newkeys(2048) to generate a 2048-bit RSA key pair, balancing strong security with computational efficiency. It returns both keys for secure communication or data authentication.\n",
        "\n",
        "\n"
      ],
      "metadata": {
        "id": "ldfC3bflMUNM"
      }
    },
    {
      "cell_type": "code",
      "source": [
        "# Step 1: Generate RSA Key Pairs\n",
        "def generate_keys():\n",
        "    \"\"\"\n",
        "    Generate a public-private key pair using the RSA algorithm.\n",
        "    Returns:\n",
        "        (public_key, private_key): A tuple containing the generated RSA keys.\n",
        "    \"\"\"\n",
        "    public_key, private_key = rsa.newkeys(2048)  # Generate 2048-bit RSA keys\n",
        "    return public_key, private_key"
      ],
      "metadata": {
        "id": "kAOUSAFSHjHv"
      },
      "execution_count": 3,
      "outputs": []
    },
    {
      "cell_type": "markdown",
      "source": [
        "**Step 2:**\n",
        "\n",
        "The encrypt_message() function secures a plaintext message by encrypting it using the recipient's public key:\n",
        "\n",
        "**Input:**\n",
        "\n",
        "\n",
        "*   **message:** The plaintext message to be encrypted.\n",
        "*   **public_key:** The recipient's public RSA key used for encryption.\n",
        "\n",
        "**Process:**\n",
        "\n",
        "\n",
        "*   The message is converted to bytes using .encode().\n",
        "*   It is encrypted with rsa.encrypt(), ensuring only the recipient (who has the private key) can decrypt it.\n",
        "*   The encrypted data is encoded in Base64 using base64.b64encode() for safe transmission over text-based systems.\n",
        "\n",
        "**Output:**\n",
        "\n",
        "*   The encrypted message is returned as a Base64-encoded string.\n",
        "\n",
        "\n"
      ],
      "metadata": {
        "id": "g0EQOreuNH9e"
      }
    },
    {
      "cell_type": "code",
      "source": [
        "# Step 2: Encrypt Message\n",
        "def encrypt_message(message, public_key):\n",
        "    \"\"\"\n",
        "    Encrypt a message using the recipient's public key.\n",
        "    Args:\n",
        "        message (str): The plaintext message to encrypt.\n",
        "        public_key: The recipient's public RSA key.\n",
        "    Returns:\n",
        "        str: The encrypted message in base64 format.\n",
        "    \"\"\"\n",
        "    encrypted_message = rsa.encrypt(message.encode(), public_key)\n",
        "    return base64.b64encode(encrypted_message).decode()  # Encode to base64 for transmission"
      ],
      "metadata": {
        "id": "9u6Zh0UNHmhC"
      },
      "execution_count": 4,
      "outputs": []
    },
    {
      "cell_type": "markdown",
      "source": [
        "**Step 3:**\n",
        "\n",
        "The decrypt_message() function decodes and decrypts an encrypted message using the recipient's private key:\n",
        "\n",
        "**Input:**\n",
        "\n",
        "*   **encrypted_message:** The Base64-encoded string of the encrypted message.\n",
        "*   **private_key:** The recipient's private RSA key for decryption.\n",
        "\n",
        "**Process:**\n",
        "\n",
        "*   **Decode Base64:** Converts the Base64 string back into its original encrypted byte format using base64.b64decode().\n",
        "*   **Decrypt:** Decrypts the byte data using rsa.decrypt(), which applies the recipient's private key.\n",
        "*   **Decode to String:** Converts the decrypted byte data back into a readable plaintext message.\n",
        "\n",
        "**Output:**\n",
        "\n",
        "*   The original plaintext message is returned."
      ],
      "metadata": {
        "id": "YxZ0MIrDaHLu"
      }
    },
    {
      "cell_type": "code",
      "source": [
        "# Step 3: Decrypt Message\n",
        "def decrypt_message(encrypted_message, private_key):\n",
        "    \"\"\"\n",
        "    Decrypt a message using the recipient's private key.\n",
        "    Args:\n",
        "        encrypted_message (str): The encrypted message in base64 format.\n",
        "        private_key: The recipient's private RSA key.\n",
        "    Returns:\n",
        "        str: The decrypted plaintext message.\n",
        "    \"\"\"\n",
        "    encrypted_data = base64.b64decode(encrypted_message)  # Decode base64\n",
        "    decrypted_message = rsa.decrypt(encrypted_data, private_key).decode()  # Decrypt and decode\n",
        "    return decrypted_message"
      ],
      "metadata": {
        "id": "nOjeR3gIHpz_"
      },
      "execution_count": 5,
      "outputs": []
    },
    {
      "cell_type": "markdown",
      "source": [
        "**Step 4:**\n",
        "\n",
        "The sign_message() function creates a digital signature for a message using the sender's private key:\n",
        "\n",
        "**Input:**\n",
        "\n",
        "*   **message:** The plaintext message to be signed.\n",
        "*   **private_key:** The sender's private RSA key for signing.\n",
        "\n",
        "**Process:**\n",
        "\n",
        "\n",
        "*   **Hash the Message:** Generates a SHA-256 hash of the message using hashlib.sha256(). This ensures data integrity.\n",
        "*   **Sign the Hash:** Uses rsa.sign() to encrypt the hash with the sender's private key, creating the digital signature.\n",
        "*   **Base64 Encode:** Encodes the signature into a Base64 string using base64.b64encode() for secure transmission.\n",
        "\n",
        "**Output:**\n",
        "\n",
        "The Base64-encoded digital signature is returned, which ensures the message's authenticity and integrity.\n",
        "\n",
        "\n",
        "\n",
        "\n",
        "\n",
        "\n",
        "\n"
      ],
      "metadata": {
        "id": "K20W4zCabHi1"
      }
    },
    {
      "cell_type": "code",
      "source": [
        "# Step 4: Generate Digital Signature\n",
        "def sign_message(message, private_key):\n",
        "    \"\"\"\n",
        "    Generate a digital signature for a message using the sender's private key.\n",
        "    Args:\n",
        "        message (str): The plaintext message to sign.\n",
        "        private_key: The sender's private RSA key.\n",
        "    Returns:\n",
        "        str: The digital signature in base64 format.\n",
        "    \"\"\"\n",
        "    message_hash = hashlib.sha256(message.encode()).digest()  # Create a SHA-256 hash of the message\n",
        "    signature = rsa.sign(message_hash, private_key, 'SHA-256')  # Sign the hash\n",
        "    return base64.b64encode(signature).decode()  # Encode to base6"
      ],
      "metadata": {
        "id": "b6CeedGDHttG"
      },
      "execution_count": 6,
      "outputs": []
    },
    {
      "cell_type": "markdown",
      "source": [
        "The provided code demonstrates a PGP (Pretty Good Privacy) workflow, showcasing how encryption, decryption, signing, and signature verification work:\n",
        "\n",
        "**Key Generation:**\n",
        "\n",
        "RSA key pairs are generated for both the sender and the recipient using generate_keys().\n",
        "\n",
        "**Encryption:**\n",
        "\n",
        "*   The sender encrypts the plaintext message with the recipient's public key using encrypt_message().\n",
        "*   The encrypted message ensures confidentiality and is printed.\n",
        "\n",
        "**Decryption:**\n",
        "\n",
        "*   The recipient decrypts the encrypted message using their private key with decrypt_message().\n",
        "*   The original plaintext message is recovered and printed.\n",
        "\n",
        "**Signing:**\n",
        "\n",
        "*   The sender signs the plaintext message with their private key using sign_message().\n",
        "*   The generated digital signature ensures authenticity and is printed.\n",
        "\n",
        "**Signature Verification:**\n",
        "\n",
        "*   The recipient verifies the sender's signature using the sender's public key with verify_signature().\n",
        "*   If the signature matches, it confirms the sender's identity and message integrity, and a validity status is printed.\n",
        "\n",
        "This demonstration ensures:\n",
        "\n",
        "*   **Confidentiality:** Encryption protects the message.\n",
        "*   **Authenticity and Integrity:** Signing and verification confirm the sender and ensure the message is untampered.\n",
        "\n",
        "\n",
        "\n",
        "\n",
        "\n",
        "\n",
        "\n",
        "\n",
        "\n",
        "\n",
        "\n",
        "\n",
        "\n"
      ],
      "metadata": {
        "id": "K4UzPd-Vd32o"
      }
    },
    {
      "cell_type": "code",
      "source": [
        "\n",
        "# Demonstration of the PGP Algorithm\n",
        "if __name__ == \"__main__\":\n",
        "    # Generate key pairs for sender and recipient\n",
        "    sender_public, sender_private = generate_keys()\n",
        "    recipient_public, recipient_private = generate_keys()\n",
        "\n",
        "    # Original message\n",
        "    message = \"Hello, this is a PGP implementation demo.\"\n",
        "\n",
        "    # Step 1: Encrypt the message with the recipient's public key\n",
        "    encrypted_message = encrypt_message(message, recipient_public)\n",
        "    print(\"Encrypted Message:\", encrypted_message)\n",
        "\n",
        "    # Step 2: Decrypt the message with the recipient's private key\n",
        "    decrypted_message = decrypt_message(encrypted_message, recipient_private)\n",
        "    print(\"Decrypted Message:\", decrypted_message)\n",
        "\n",
        "    # Step 3: Sign the message with the sender's private key\n",
        "    signature = sign_message(message, sender_private)\n",
        "    print(\"Digital Signature:\", signature)\n",
        "\n",
        "    # Step 4: Verify the signature with the sender's public key\n",
        "    is_valid = verify_signature(message, signature, sender_public)\n",
        "    print(\"Signature Valid:\", is_valid)"
      ],
      "metadata": {
        "colab": {
          "base_uri": "https://localhost:8080/"
        },
        "id": "k0ofL8hHIS-Y",
        "outputId": "3eb969b8-22a7-4536-e380-bf56597fa367"
      },
      "execution_count": 11,
      "outputs": [
        {
          "output_type": "stream",
          "name": "stdout",
          "text": [
            "Encrypted Message: lDyH1FDjExZeznwkY5YMMk9khTDUiCE64KM1GAHua8EB0EcjqobcMrL4Bp9Bk5z1RVbmvekUXuYByk1isbWxm6InaL9PiwyFroeB2R/WZ3W5PwDzYd3lkvWRmzKU/b3u3uYGT3DppOjzLDDZvzlxyR3RE6NaNU74LGWzjOhLZ0zr8dYC07A4Dtk/HcqxFqiDJ+i2gDEt9aGbumOHJdu6YpB7wf0rpzD9A7FxasgZFYUlFbKAvJfvTj0wqSel8dYetZ9h4ccDrR+utjhpcowApUBHiMbq1h1U1PvTCRph+e6ap8BBfFVbNb+fiNPchiZcOunKpGjC8vse0VOXfRGKAA==\n",
            "Decrypted Message: Hello, this is a PGP implementation demo.\n",
            "Digital Signature: Ez1it4opfGF/JqcElV8dQ9AmocHuBs51zfFFcqYYqE9lfEGZm16kEndqUjz8ArLET3aZ7n1fq/zFuI1I5vkOSjSpRLMT54HEz7vc++RAWlJYsszvbpWnbQZHTacipEMrIRsqYwzwY/G8VbgVuzZi0TMeilZNIF95B0spVciLlwTppYEcVl0bJZ+xspRTVForzy63NzLjA9VJxXmLMceUGzXfYm+bZSJP8cJ9UEzyxUCWdRFUnVOkANb5ZY21gHdNzutVbGLH/5yAGduRx8MoQFNdSabPw63zbhcpPQu+ACrnhOh8YOOkRu+jXG+T5KjMNurKuy5s9BTDWZ23sDjfOA==\n",
            "Signature Valid: True\n"
          ]
        }
      ]
    }
  ]
}